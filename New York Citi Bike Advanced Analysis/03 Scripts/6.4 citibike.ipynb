{
 "cells": [
  {
   "cell_type": "markdown",
   "id": "3c78e8f5",
   "metadata": {},
   "source": [
    "# 01. Importing libraries"
   ]
  },
  {
   "cell_type": "code",
   "execution_count": 1,
   "id": "ec390b84",
   "metadata": {},
   "outputs": [],
   "source": [
    "import pandas as pd\n",
    "import numpy as np\n",
    "import seaborn as sns\n",
    "import matplotlib\n",
    "import matplotlib.pyplot as plt\n",
    "import os\n",
    "import sklearn\n",
    "from sklearn.model_selection import train_test_split \n",
    "from sklearn.linear_model import LinearRegression\n",
    "from sklearn.metrics import mean_squared_error, r2_score"
   ]
  },
  {
   "cell_type": "code",
   "execution_count": 2,
   "id": "1d7e9735",
   "metadata": {},
   "outputs": [],
   "source": [
    "# This command prompts matplotlib visuals to appear in the notebook \n",
    "\n",
    "%matplotlib inline"
   ]
  },
  {
   "cell_type": "markdown",
   "id": "3fdfd5b4",
   "metadata": {},
   "source": [
    "# 02. Importing dataframe"
   ]
  },
  {
   "cell_type": "code",
   "execution_count": 3,
   "id": "f192732a",
   "metadata": {},
   "outputs": [],
   "source": [
    "# Creating path first\n",
    "path = r'/Users/jaksdt/Desktop/Data analytics stuff/Data immersion/Exercises 1 - 10/Section 6'"
   ]
  },
  {
   "cell_type": "code",
   "execution_count": 4,
   "id": "0581c132",
   "metadata": {},
   "outputs": [],
   "source": [
    "# Importing dataframe\n",
    "df = pd.read_csv(os.path.join(path, '02 Data', 'Prepared data', 'citibike3.csv'), index_col = False)"
   ]
  },
  {
   "cell_type": "code",
   "execution_count": 5,
   "id": "5421d3cf",
   "metadata": {},
   "outputs": [
    {
     "data": {
      "text/html": [
       "<div>\n",
       "<style scoped>\n",
       "    .dataframe tbody tr th:only-of-type {\n",
       "        vertical-align: middle;\n",
       "    }\n",
       "\n",
       "    .dataframe tbody tr th {\n",
       "        vertical-align: top;\n",
       "    }\n",
       "\n",
       "    .dataframe thead th {\n",
       "        text-align: right;\n",
       "    }\n",
       "</style>\n",
       "<table border=\"1\" class=\"dataframe\">\n",
       "  <thead>\n",
       "    <tr style=\"text-align: right;\">\n",
       "      <th></th>\n",
       "      <th>bike_id</th>\n",
       "      <th>weekday</th>\n",
       "      <th>start_hour</th>\n",
       "      <th>start_time</th>\n",
       "      <th>start_station_id</th>\n",
       "      <th>start_station_name</th>\n",
       "      <th>start_station_latitude</th>\n",
       "      <th>start_station_longitude</th>\n",
       "      <th>end_time</th>\n",
       "      <th>end_station_id</th>\n",
       "      <th>end_station_name</th>\n",
       "      <th>end_station_latitude</th>\n",
       "      <th>end_station_longitude</th>\n",
       "      <th>trip_duration</th>\n",
       "      <th>subscriber</th>\n",
       "      <th>birth_year</th>\n",
       "      <th>gender</th>\n",
       "      <th>zip_code</th>\n",
       "    </tr>\n",
       "  </thead>\n",
       "  <tbody>\n",
       "    <tr>\n",
       "      <th>0</th>\n",
       "      <td>16013</td>\n",
       "      <td>Mon</td>\n",
       "      <td>18</td>\n",
       "      <td>2013-09-09 18:18:55</td>\n",
       "      <td>523</td>\n",
       "      <td>W 38 St &amp; 8 Ave</td>\n",
       "      <td>40.754666</td>\n",
       "      <td>-73.991382</td>\n",
       "      <td>2013-09-09 18:35:28</td>\n",
       "      <td>334</td>\n",
       "      <td>W 20 St &amp; 7 Ave</td>\n",
       "      <td>40.742388</td>\n",
       "      <td>-73.997262</td>\n",
       "      <td>993</td>\n",
       "      <td>Subscriber</td>\n",
       "      <td>1968</td>\n",
       "      <td>Female</td>\n",
       "      <td>10018.0</td>\n",
       "    </tr>\n",
       "    <tr>\n",
       "      <th>1</th>\n",
       "      <td>15230</td>\n",
       "      <td>Thu</td>\n",
       "      <td>18</td>\n",
       "      <td>2013-09-12 18:38:53</td>\n",
       "      <td>257</td>\n",
       "      <td>Lispenard St &amp; Broadway</td>\n",
       "      <td>40.719392</td>\n",
       "      <td>-74.002472</td>\n",
       "      <td>2013-09-12 18:48:34</td>\n",
       "      <td>236</td>\n",
       "      <td>St Marks Pl &amp; 2 Ave</td>\n",
       "      <td>40.728419</td>\n",
       "      <td>-73.987140</td>\n",
       "      <td>581</td>\n",
       "      <td>Subscriber</td>\n",
       "      <td>1983</td>\n",
       "      <td>Male</td>\n",
       "      <td>10013.0</td>\n",
       "    </tr>\n",
       "    <tr>\n",
       "      <th>2</th>\n",
       "      <td>17942</td>\n",
       "      <td>Wed</td>\n",
       "      <td>19</td>\n",
       "      <td>2013-09-18 19:44:04</td>\n",
       "      <td>479</td>\n",
       "      <td>9 Ave &amp; W 45 St</td>\n",
       "      <td>40.760193</td>\n",
       "      <td>-73.991255</td>\n",
       "      <td>2013-09-18 19:50:05</td>\n",
       "      <td>513</td>\n",
       "      <td>W 56 St &amp; 10 Ave</td>\n",
       "      <td>40.768254</td>\n",
       "      <td>-73.988639</td>\n",
       "      <td>361</td>\n",
       "      <td>Subscriber</td>\n",
       "      <td>1989</td>\n",
       "      <td>Male</td>\n",
       "      <td>10019.0</td>\n",
       "    </tr>\n",
       "    <tr>\n",
       "      <th>3</th>\n",
       "      <td>19683</td>\n",
       "      <td>Sat</td>\n",
       "      <td>11</td>\n",
       "      <td>2013-09-28 11:54:37</td>\n",
       "      <td>527</td>\n",
       "      <td>E 33 St &amp; 1 Ave</td>\n",
       "      <td>40.743156</td>\n",
       "      <td>-73.974347</td>\n",
       "      <td>2013-09-28 12:03:58</td>\n",
       "      <td>441</td>\n",
       "      <td>E 52 St &amp; 2 Ave</td>\n",
       "      <td>40.756014</td>\n",
       "      <td>-73.967416</td>\n",
       "      <td>561</td>\n",
       "      <td>Subscriber</td>\n",
       "      <td>1988</td>\n",
       "      <td>Female</td>\n",
       "      <td>10016.0</td>\n",
       "    </tr>\n",
       "    <tr>\n",
       "      <th>4</th>\n",
       "      <td>18024</td>\n",
       "      <td>Sat</td>\n",
       "      <td>18</td>\n",
       "      <td>2013-09-07 18:08:22</td>\n",
       "      <td>521</td>\n",
       "      <td>8 Ave &amp; W 31 St</td>\n",
       "      <td>40.750450</td>\n",
       "      <td>-73.994811</td>\n",
       "      <td>2013-09-07 18:46:38</td>\n",
       "      <td>476</td>\n",
       "      <td>E 31 St &amp; 3 Ave</td>\n",
       "      <td>40.743943</td>\n",
       "      <td>-73.979661</td>\n",
       "      <td>2296</td>\n",
       "      <td>Non-Subscriber</td>\n",
       "      <td>1976</td>\n",
       "      <td>Unknown</td>\n",
       "      <td>10122.0</td>\n",
       "    </tr>\n",
       "    <tr>\n",
       "      <th>...</th>\n",
       "      <td>...</td>\n",
       "      <td>...</td>\n",
       "      <td>...</td>\n",
       "      <td>...</td>\n",
       "      <td>...</td>\n",
       "      <td>...</td>\n",
       "      <td>...</td>\n",
       "      <td>...</td>\n",
       "      <td>...</td>\n",
       "      <td>...</td>\n",
       "      <td>...</td>\n",
       "      <td>...</td>\n",
       "      <td>...</td>\n",
       "      <td>...</td>\n",
       "      <td>...</td>\n",
       "      <td>...</td>\n",
       "      <td>...</td>\n",
       "      <td>...</td>\n",
       "    </tr>\n",
       "    <tr>\n",
       "      <th>49972</th>\n",
       "      <td>17988</td>\n",
       "      <td>Sat</td>\n",
       "      <td>18</td>\n",
       "      <td>2013-09-21 18:39:20</td>\n",
       "      <td>479</td>\n",
       "      <td>9 Ave &amp; W 45 St</td>\n",
       "      <td>40.760193</td>\n",
       "      <td>-73.991255</td>\n",
       "      <td>2013-09-21 20:08:59</td>\n",
       "      <td>478</td>\n",
       "      <td>11 Ave &amp; W 41 St</td>\n",
       "      <td>40.760301</td>\n",
       "      <td>-73.998842</td>\n",
       "      <td>2697</td>\n",
       "      <td>Non-Subscriber</td>\n",
       "      <td>1976</td>\n",
       "      <td>Unknown</td>\n",
       "      <td>10019.0</td>\n",
       "    </tr>\n",
       "    <tr>\n",
       "      <th>49973</th>\n",
       "      <td>18458</td>\n",
       "      <td>Sat</td>\n",
       "      <td>17</td>\n",
       "      <td>2013-09-14 17:32:26</td>\n",
       "      <td>261</td>\n",
       "      <td>Johnson St &amp; Gold St</td>\n",
       "      <td>40.694749</td>\n",
       "      <td>-73.983625</td>\n",
       "      <td>2013-09-14 17:52:17</td>\n",
       "      <td>151</td>\n",
       "      <td>Cleveland Pl &amp; Spring St</td>\n",
       "      <td>40.721816</td>\n",
       "      <td>-73.997203</td>\n",
       "      <td>1191</td>\n",
       "      <td>Subscriber</td>\n",
       "      <td>1970</td>\n",
       "      <td>Female</td>\n",
       "      <td>11201.0</td>\n",
       "    </tr>\n",
       "    <tr>\n",
       "      <th>49974</th>\n",
       "      <td>15054</td>\n",
       "      <td>Sat</td>\n",
       "      <td>18</td>\n",
       "      <td>2013-09-07 18:08:21</td>\n",
       "      <td>402</td>\n",
       "      <td>Broadway &amp; E 22 St</td>\n",
       "      <td>40.740343</td>\n",
       "      <td>-73.989551</td>\n",
       "      <td>2013-09-07 18:25:51</td>\n",
       "      <td>524</td>\n",
       "      <td>W 43 St &amp; 6 Ave</td>\n",
       "      <td>40.755273</td>\n",
       "      <td>-73.983169</td>\n",
       "      <td>1050</td>\n",
       "      <td>Subscriber</td>\n",
       "      <td>1961</td>\n",
       "      <td>Female</td>\n",
       "      <td>10010.0</td>\n",
       "    </tr>\n",
       "    <tr>\n",
       "      <th>49975</th>\n",
       "      <td>16763</td>\n",
       "      <td>Sat</td>\n",
       "      <td>13</td>\n",
       "      <td>2013-09-07 13:25:35</td>\n",
       "      <td>271</td>\n",
       "      <td>Ashland Pl &amp; Hanson Pl</td>\n",
       "      <td>40.685282</td>\n",
       "      <td>-73.978058</td>\n",
       "      <td>2013-09-07 14:14:04</td>\n",
       "      <td>373</td>\n",
       "      <td>Willoughby Ave &amp; Walworth St</td>\n",
       "      <td>40.693317</td>\n",
       "      <td>-73.953820</td>\n",
       "      <td>2697</td>\n",
       "      <td>Non-Subscriber</td>\n",
       "      <td>1976</td>\n",
       "      <td>Unknown</td>\n",
       "      <td>11215.0</td>\n",
       "    </tr>\n",
       "    <tr>\n",
       "      <th>49976</th>\n",
       "      <td>16794</td>\n",
       "      <td>Mon</td>\n",
       "      <td>21</td>\n",
       "      <td>2013-09-23 21:54:36</td>\n",
       "      <td>515</td>\n",
       "      <td>W 43 St &amp; 10 Ave</td>\n",
       "      <td>40.760094</td>\n",
       "      <td>-73.994618</td>\n",
       "      <td>2013-09-23 22:00:46</td>\n",
       "      <td>488</td>\n",
       "      <td>W 39 St &amp; 9 Ave</td>\n",
       "      <td>40.756458</td>\n",
       "      <td>-73.993722</td>\n",
       "      <td>370</td>\n",
       "      <td>Subscriber</td>\n",
       "      <td>1980</td>\n",
       "      <td>Female</td>\n",
       "      <td>10036.0</td>\n",
       "    </tr>\n",
       "  </tbody>\n",
       "</table>\n",
       "<p>49977 rows × 18 columns</p>\n",
       "</div>"
      ],
      "text/plain": [
       "       bike_id weekday  start_hour           start_time  start_station_id  \\\n",
       "0        16013     Mon          18  2013-09-09 18:18:55               523   \n",
       "1        15230     Thu          18  2013-09-12 18:38:53               257   \n",
       "2        17942     Wed          19  2013-09-18 19:44:04               479   \n",
       "3        19683     Sat          11  2013-09-28 11:54:37               527   \n",
       "4        18024     Sat          18  2013-09-07 18:08:22               521   \n",
       "...        ...     ...         ...                  ...               ...   \n",
       "49972    17988     Sat          18  2013-09-21 18:39:20               479   \n",
       "49973    18458     Sat          17  2013-09-14 17:32:26               261   \n",
       "49974    15054     Sat          18  2013-09-07 18:08:21               402   \n",
       "49975    16763     Sat          13  2013-09-07 13:25:35               271   \n",
       "49976    16794     Mon          21  2013-09-23 21:54:36               515   \n",
       "\n",
       "            start_station_name  start_station_latitude  \\\n",
       "0              W 38 St & 8 Ave               40.754666   \n",
       "1      Lispenard St & Broadway               40.719392   \n",
       "2              9 Ave & W 45 St               40.760193   \n",
       "3              E 33 St & 1 Ave               40.743156   \n",
       "4              8 Ave & W 31 St               40.750450   \n",
       "...                        ...                     ...   \n",
       "49972          9 Ave & W 45 St               40.760193   \n",
       "49973     Johnson St & Gold St               40.694749   \n",
       "49974       Broadway & E 22 St               40.740343   \n",
       "49975   Ashland Pl & Hanson Pl               40.685282   \n",
       "49976         W 43 St & 10 Ave               40.760094   \n",
       "\n",
       "       start_station_longitude             end_time  end_station_id  \\\n",
       "0                   -73.991382  2013-09-09 18:35:28             334   \n",
       "1                   -74.002472  2013-09-12 18:48:34             236   \n",
       "2                   -73.991255  2013-09-18 19:50:05             513   \n",
       "3                   -73.974347  2013-09-28 12:03:58             441   \n",
       "4                   -73.994811  2013-09-07 18:46:38             476   \n",
       "...                        ...                  ...             ...   \n",
       "49972               -73.991255  2013-09-21 20:08:59             478   \n",
       "49973               -73.983625  2013-09-14 17:52:17             151   \n",
       "49974               -73.989551  2013-09-07 18:25:51             524   \n",
       "49975               -73.978058  2013-09-07 14:14:04             373   \n",
       "49976               -73.994618  2013-09-23 22:00:46             488   \n",
       "\n",
       "                   end_station_name  end_station_latitude  \\\n",
       "0                   W 20 St & 7 Ave             40.742388   \n",
       "1               St Marks Pl & 2 Ave             40.728419   \n",
       "2                  W 56 St & 10 Ave             40.768254   \n",
       "3                   E 52 St & 2 Ave             40.756014   \n",
       "4                   E 31 St & 3 Ave             40.743943   \n",
       "...                             ...                   ...   \n",
       "49972              11 Ave & W 41 St             40.760301   \n",
       "49973      Cleveland Pl & Spring St             40.721816   \n",
       "49974               W 43 St & 6 Ave             40.755273   \n",
       "49975  Willoughby Ave & Walworth St             40.693317   \n",
       "49976               W 39 St & 9 Ave             40.756458   \n",
       "\n",
       "       end_station_longitude  trip_duration      subscriber  birth_year  \\\n",
       "0                 -73.997262            993      Subscriber        1968   \n",
       "1                 -73.987140            581      Subscriber        1983   \n",
       "2                 -73.988639            361      Subscriber        1989   \n",
       "3                 -73.967416            561      Subscriber        1988   \n",
       "4                 -73.979661           2296  Non-Subscriber        1976   \n",
       "...                      ...            ...             ...         ...   \n",
       "49972             -73.998842           2697  Non-Subscriber        1976   \n",
       "49973             -73.997203           1191      Subscriber        1970   \n",
       "49974             -73.983169           1050      Subscriber        1961   \n",
       "49975             -73.953820           2697  Non-Subscriber        1976   \n",
       "49976             -73.993722            370      Subscriber        1980   \n",
       "\n",
       "        gender  zip_code  \n",
       "0       Female   10018.0  \n",
       "1         Male   10013.0  \n",
       "2         Male   10019.0  \n",
       "3       Female   10016.0  \n",
       "4      Unknown   10122.0  \n",
       "...        ...       ...  \n",
       "49972  Unknown   10019.0  \n",
       "49973   Female   11201.0  \n",
       "49974   Female   10010.0  \n",
       "49975  Unknown   11215.0  \n",
       "49976   Female   10036.0  \n",
       "\n",
       "[49977 rows x 18 columns]"
      ]
     },
     "execution_count": 5,
     "metadata": {},
     "output_type": "execute_result"
    }
   ],
   "source": [
    "df"
   ]
  },
  {
   "cell_type": "markdown",
   "id": "1d5bac61",
   "metadata": {},
   "source": [
    "## Cleaning and wrangling had been done in the previous exercises"
   ]
  },
  {
   "cell_type": "code",
   "execution_count": 6,
   "id": "7bc2d60c",
   "metadata": {},
   "outputs": [
    {
     "name": "stderr",
     "output_type": "stream",
     "text": [
      "/var/folders/rt/5l65ws1n3191wh72d_rd0k2r0000gn/T/ipykernel_4342/3491099618.py:2: UserWarning: \n",
      "\n",
      "`distplot` is a deprecated function and will be removed in seaborn v0.14.0.\n",
      "\n",
      "Please adapt your code to use either `displot` (a figure-level function with\n",
      "similar flexibility) or `histplot` (an axes-level function for histograms).\n",
      "\n",
      "For a guide to updating your code to use the new functions, please see\n",
      "https://gist.github.com/mwaskom/de44147ed2974457ad6372750bbe5751\n",
      "\n",
      "  sns.distplot(df['trip_duration'], bins=60)\n"
     ]
    },
    {
     "data": {
      "text/plain": [
       "<Axes: xlabel='trip_duration', ylabel='Density'>"
      ]
     },
     "execution_count": 6,
     "metadata": {},
     "output_type": "execute_result"
    },
    {
     "data": {
      "image/png": "[encoded data removed]",
      "text/plain": [
       "<Figure size 640x480 with 1 Axes>"
      ]
     },
     "metadata": {},
     "output_type": "display_data"
    }
   ],
   "source": [
    "# Checking for extreme values\n",
    "sns.distplot(df['trip_duration'], bins=60)"
   ]
  },
  {
   "cell_type": "code",
   "execution_count": 7,
   "id": "3553d6f9",
   "metadata": {},
   "outputs": [
    {
     "name": "stdout",
     "output_type": "stream",
     "text": [
      "<class 'pandas.core.frame.DataFrame'>\n",
      "RangeIndex: 49977 entries, 0 to 49976\n",
      "Data columns (total 18 columns):\n",
      " #   Column                   Non-Null Count  Dtype  \n",
      "---  ------                   --------------  -----  \n",
      " 0   bike_id                  49977 non-null  int64  \n",
      " 1   weekday                  49977 non-null  object \n",
      " 2   start_hour               49977 non-null  int64  \n",
      " 3   start_time               49977 non-null  object \n",
      " 4   start_station_id         49977 non-null  int64  \n",
      " 5   start_station_name       49977 non-null  object \n",
      " 6   start_station_latitude   49977 non-null  float64\n",
      " 7   start_station_longitude  49977 non-null  float64\n",
      " 8   end_time                 49977 non-null  object \n",
      " 9   end_station_id           49977 non-null  int64  \n",
      " 10  end_station_name         49977 non-null  object \n",
      " 11  end_station_latitude     49977 non-null  float64\n",
      " 12  end_station_longitude    49977 non-null  float64\n",
      " 13  trip_duration            49977 non-null  int64  \n",
      " 14  subscriber               49977 non-null  object \n",
      " 15  birth_year               49977 non-null  int64  \n",
      " 16  gender                   49977 non-null  object \n",
      " 17  zip_code                 48530 non-null  float64\n",
      "dtypes: float64(5), int64(6), object(7)\n",
      "memory usage: 6.9+ MB\n"
     ]
    }
   ],
   "source": [
    "df.info()"
   ]
  },
  {
   "cell_type": "code",
   "execution_count": 8,
   "id": "44849c78",
   "metadata": {},
   "outputs": [],
   "source": [
    "# Changing start_time column from string to datetime\n",
    "df['start_time'] = df['start_time'].astype('datetime64[ns]')"
   ]
  },
  {
   "cell_type": "code",
   "execution_count": 9,
   "id": "b9420c88",
   "metadata": {},
   "outputs": [],
   "source": [
    "# Changing end_time column from string to datetime\n",
    "df['end_time'] = df['end_time'].astype('datetime64[ns]')"
   ]
  },
  {
   "cell_type": "code",
   "execution_count": 10,
   "id": "0d147542",
   "metadata": {},
   "outputs": [
    {
     "name": "stdout",
     "output_type": "stream",
     "text": [
      "<class 'pandas.core.frame.DataFrame'>\n",
      "RangeIndex: 49977 entries, 0 to 49976\n",
      "Data columns (total 18 columns):\n",
      " #   Column                   Non-Null Count  Dtype         \n",
      "---  ------                   --------------  -----         \n",
      " 0   bike_id                  49977 non-null  int64         \n",
      " 1   weekday                  49977 non-null  object        \n",
      " 2   start_hour               49977 non-null  int64         \n",
      " 3   start_time               49977 non-null  datetime64[ns]\n",
      " 4   start_station_id         49977 non-null  int64         \n",
      " 5   start_station_name       49977 non-null  object        \n",
      " 6   start_station_latitude   49977 non-null  float64       \n",
      " 7   start_station_longitude  49977 non-null  float64       \n",
      " 8   end_time                 49977 non-null  datetime64[ns]\n",
      " 9   end_station_id           49977 non-null  int64         \n",
      " 10  end_station_name         49977 non-null  object        \n",
      " 11  end_station_latitude     49977 non-null  float64       \n",
      " 12  end_station_longitude    49977 non-null  float64       \n",
      " 13  trip_duration            49977 non-null  int64         \n",
      " 14  subscriber               49977 non-null  object        \n",
      " 15  birth_year               49977 non-null  int64         \n",
      " 16  gender                   49977 non-null  object        \n",
      " 17  zip_code                 48530 non-null  float64       \n",
      "dtypes: datetime64[ns](2), float64(5), int64(6), object(5)\n",
      "memory usage: 6.9+ MB\n"
     ]
    }
   ],
   "source": [
    "df.info()"
   ]
  },
  {
   "cell_type": "code",
   "execution_count": 11,
   "id": "f0cfcadd",
   "metadata": {},
   "outputs": [],
   "source": [
    "# Checking the amount of rides per hour each day\n",
    "hour_counts = df.groupby(['start_hour',df['start_time'].dt.date])['start_time'].count()"
   ]
  },
  {
   "cell_type": "code",
   "execution_count": 12,
   "id": "be986265",
   "metadata": {},
   "outputs": [
    {
     "data": {
      "text/plain": [
       "start_hour  start_time\n",
       "0           2013-09-01    21\n",
       "            2013-09-02    26\n",
       "            2013-09-03     7\n",
       "            2013-09-04    11\n",
       "            2013-09-05    19\n",
       "                          ..\n",
       "23          2013-09-26    42\n",
       "            2013-09-27    47\n",
       "            2013-09-28    55\n",
       "            2013-09-29    22\n",
       "            2013-09-30    19\n",
       "Name: start_time, Length: 713, dtype: int64"
      ]
     },
     "execution_count": 12,
     "metadata": {},
     "output_type": "execute_result"
    }
   ],
   "source": [
    "hour_counts"
   ]
  },
  {
   "cell_type": "code",
   "execution_count": 13,
   "id": "5a109bc5",
   "metadata": {},
   "outputs": [],
   "source": [
    "# Checking average rides per hour\n",
    "avg_rides_per_hour = hour_counts.groupby('start_hour').mean().reset_index()"
   ]
  },
  {
   "cell_type": "code",
   "execution_count": 14,
   "id": "040a2a6e",
   "metadata": {},
   "outputs": [
    {
     "data": {
      "text/html": [
       "<div>\n",
       "<style scoped>\n",
       "    .dataframe tbody tr th:only-of-type {\n",
       "        vertical-align: middle;\n",
       "    }\n",
       "\n",
       "    .dataframe tbody tr th {\n",
       "        vertical-align: top;\n",
       "    }\n",
       "\n",
       "    .dataframe thead th {\n",
       "        text-align: right;\n",
       "    }\n",
       "</style>\n",
       "<table border=\"1\" class=\"dataframe\">\n",
       "  <thead>\n",
       "    <tr style=\"text-align: right;\">\n",
       "      <th></th>\n",
       "      <th>start_hour</th>\n",
       "      <th>start_time</th>\n",
       "    </tr>\n",
       "  </thead>\n",
       "  <tbody>\n",
       "    <tr>\n",
       "      <th>0</th>\n",
       "      <td>0</td>\n",
       "      <td>17.400000</td>\n",
       "    </tr>\n",
       "    <tr>\n",
       "      <th>1</th>\n",
       "      <td>1</td>\n",
       "      <td>11.000000</td>\n",
       "    </tr>\n",
       "    <tr>\n",
       "      <th>2</th>\n",
       "      <td>2</td>\n",
       "      <td>6.466667</td>\n",
       "    </tr>\n",
       "    <tr>\n",
       "      <th>3</th>\n",
       "      <td>3</td>\n",
       "      <td>4.615385</td>\n",
       "    </tr>\n",
       "    <tr>\n",
       "      <th>4</th>\n",
       "      <td>4</td>\n",
       "      <td>3.296296</td>\n",
       "    </tr>\n",
       "    <tr>\n",
       "      <th>5</th>\n",
       "      <td>5</td>\n",
       "      <td>6.933333</td>\n",
       "    </tr>\n",
       "    <tr>\n",
       "      <th>6</th>\n",
       "      <td>6</td>\n",
       "      <td>30.366667</td>\n",
       "    </tr>\n",
       "    <tr>\n",
       "      <th>7</th>\n",
       "      <td>7</td>\n",
       "      <td>67.900000</td>\n",
       "    </tr>\n",
       "    <tr>\n",
       "      <th>8</th>\n",
       "      <td>8</td>\n",
       "      <td>109.433333</td>\n",
       "    </tr>\n",
       "    <tr>\n",
       "      <th>9</th>\n",
       "      <td>9</td>\n",
       "      <td>93.700000</td>\n",
       "    </tr>\n",
       "    <tr>\n",
       "      <th>10</th>\n",
       "      <td>10</td>\n",
       "      <td>72.200000</td>\n",
       "    </tr>\n",
       "    <tr>\n",
       "      <th>11</th>\n",
       "      <td>11</td>\n",
       "      <td>75.733333</td>\n",
       "    </tr>\n",
       "    <tr>\n",
       "      <th>12</th>\n",
       "      <td>12</td>\n",
       "      <td>96.633333</td>\n",
       "    </tr>\n",
       "    <tr>\n",
       "      <th>13</th>\n",
       "      <td>13</td>\n",
       "      <td>99.266667</td>\n",
       "    </tr>\n",
       "    <tr>\n",
       "      <th>14</th>\n",
       "      <td>14</td>\n",
       "      <td>100.066667</td>\n",
       "    </tr>\n",
       "    <tr>\n",
       "      <th>15</th>\n",
       "      <td>15</td>\n",
       "      <td>104.300000</td>\n",
       "    </tr>\n",
       "    <tr>\n",
       "      <th>16</th>\n",
       "      <td>16</td>\n",
       "      <td>126.333333</td>\n",
       "    </tr>\n",
       "    <tr>\n",
       "      <th>17</th>\n",
       "      <td>17</td>\n",
       "      <td>168.900000</td>\n",
       "    </tr>\n",
       "    <tr>\n",
       "      <th>18</th>\n",
       "      <td>18</td>\n",
       "      <td>162.300000</td>\n",
       "    </tr>\n",
       "    <tr>\n",
       "      <th>19</th>\n",
       "      <td>19</td>\n",
       "      <td>110.066667</td>\n",
       "    </tr>\n",
       "    <tr>\n",
       "      <th>20</th>\n",
       "      <td>20</td>\n",
       "      <td>73.566667</td>\n",
       "    </tr>\n",
       "    <tr>\n",
       "      <th>21</th>\n",
       "      <td>21</td>\n",
       "      <td>51.200000</td>\n",
       "    </tr>\n",
       "    <tr>\n",
       "      <th>22</th>\n",
       "      <td>22</td>\n",
       "      <td>44.100000</td>\n",
       "    </tr>\n",
       "    <tr>\n",
       "      <th>23</th>\n",
       "      <td>23</td>\n",
       "      <td>31.066667</td>\n",
       "    </tr>\n",
       "  </tbody>\n",
       "</table>\n",
       "</div>"
      ],
      "text/plain": [
       "    start_hour  start_time\n",
       "0            0   17.400000\n",
       "1            1   11.000000\n",
       "2            2    6.466667\n",
       "3            3    4.615385\n",
       "4            4    3.296296\n",
       "5            5    6.933333\n",
       "6            6   30.366667\n",
       "7            7   67.900000\n",
       "8            8  109.433333\n",
       "9            9   93.700000\n",
       "10          10   72.200000\n",
       "11          11   75.733333\n",
       "12          12   96.633333\n",
       "13          13   99.266667\n",
       "14          14  100.066667\n",
       "15          15  104.300000\n",
       "16          16  126.333333\n",
       "17          17  168.900000\n",
       "18          18  162.300000\n",
       "19          19  110.066667\n",
       "20          20   73.566667\n",
       "21          21   51.200000\n",
       "22          22   44.100000\n",
       "23          23   31.066667"
      ]
     },
     "execution_count": 14,
     "metadata": {},
     "output_type": "execute_result"
    }
   ],
   "source": [
    "avg_rides_per_hour"
   ]
  },
  {
   "cell_type": "code",
   "execution_count": 15,
   "id": "56697256",
   "metadata": {},
   "outputs": [],
   "source": [
    "# Checking rides per day\n",
    "day_counts = df.groupby('weekday')['start_time'].count().reset_index()"
   ]
  },
  {
   "cell_type": "code",
   "execution_count": 16,
   "id": "57e0c3b7",
   "metadata": {},
   "outputs": [
    {
     "data": {
      "text/html": [
       "<div>\n",
       "<style scoped>\n",
       "    .dataframe tbody tr th:only-of-type {\n",
       "        vertical-align: middle;\n",
       "    }\n",
       "\n",
       "    .dataframe tbody tr th {\n",
       "        vertical-align: top;\n",
       "    }\n",
       "\n",
       "    .dataframe thead th {\n",
       "        text-align: right;\n",
       "    }\n",
       "</style>\n",
       "<table border=\"1\" class=\"dataframe\">\n",
       "  <thead>\n",
       "    <tr style=\"text-align: right;\">\n",
       "      <th></th>\n",
       "      <th>weekday</th>\n",
       "      <th>start_time</th>\n",
       "    </tr>\n",
       "  </thead>\n",
       "  <tbody>\n",
       "    <tr>\n",
       "      <th>0</th>\n",
       "      <td>Fri</td>\n",
       "      <td>7308</td>\n",
       "    </tr>\n",
       "    <tr>\n",
       "      <th>1</th>\n",
       "      <td>Mon</td>\n",
       "      <td>7712</td>\n",
       "    </tr>\n",
       "    <tr>\n",
       "      <th>2</th>\n",
       "      <td>Sat</td>\n",
       "      <td>6507</td>\n",
       "    </tr>\n",
       "    <tr>\n",
       "      <th>3</th>\n",
       "      <td>Sun</td>\n",
       "      <td>7315</td>\n",
       "    </tr>\n",
       "    <tr>\n",
       "      <th>4</th>\n",
       "      <td>Thu</td>\n",
       "      <td>6849</td>\n",
       "    </tr>\n",
       "    <tr>\n",
       "      <th>5</th>\n",
       "      <td>Tue</td>\n",
       "      <td>7062</td>\n",
       "    </tr>\n",
       "    <tr>\n",
       "      <th>6</th>\n",
       "      <td>Wed</td>\n",
       "      <td>7224</td>\n",
       "    </tr>\n",
       "  </tbody>\n",
       "</table>\n",
       "</div>"
      ],
      "text/plain": [
       "  weekday  start_time\n",
       "0     Fri        7308\n",
       "1     Mon        7712\n",
       "2     Sat        6507\n",
       "3     Sun        7315\n",
       "4     Thu        6849\n",
       "5     Tue        7062\n",
       "6     Wed        7224"
      ]
     },
     "execution_count": 16,
     "metadata": {},
     "output_type": "execute_result"
    }
   ],
   "source": [
    "day_counts"
   ]
  },
  {
   "cell_type": "code",
   "execution_count": 17,
   "id": "02b2ad3c",
   "metadata": {},
   "outputs": [
    {
     "data": {
      "text/plain": [
       "838.8776237069052"
      ]
     },
     "execution_count": 17,
     "metadata": {},
     "output_type": "execute_result"
    }
   ],
   "source": [
    "# Checking the mean\n",
    "df['trip_duration'].mean()"
   ]
  },
  {
   "cell_type": "code",
   "execution_count": 18,
   "id": "0b0b6730",
   "metadata": {},
   "outputs": [
    {
     "data": {
      "text/plain": [
       "672.0"
      ]
     },
     "execution_count": 18,
     "metadata": {},
     "output_type": "execute_result"
    }
   ],
   "source": [
    "# Checking the median\n",
    "df['trip_duration'].median()"
   ]
  },
  {
   "cell_type": "code",
   "execution_count": 19,
   "id": "931fcd30",
   "metadata": {},
   "outputs": [
    {
     "data": {
      "text/plain": [
       "2697"
      ]
     },
     "execution_count": 19,
     "metadata": {},
     "output_type": "execute_result"
    }
   ],
   "source": [
    "# Checking the max\n",
    "df['trip_duration'].max()"
   ]
  },
  {
   "cell_type": "code",
   "execution_count": 20,
   "id": "b853d543",
   "metadata": {},
   "outputs": [
    {
     "data": {
      "text/plain": [
       "60"
      ]
     },
     "execution_count": 20,
     "metadata": {},
     "output_type": "execute_result"
    }
   ],
   "source": [
    "# Checking the min\n",
    "df['trip_duration'].min()"
   ]
  },
  {
   "cell_type": "code",
   "execution_count": 21,
   "id": "b115beca",
   "metadata": {},
   "outputs": [
    {
     "data": {
      "image/png": "[encoded data removed]",
      "text/plain": [
       "<Figure size 640x480 with 1 Axes>"
      ]
     },
     "metadata": {},
     "output_type": "display_data"
    }
   ],
   "source": [
    "# Create a scatterplot using matplotlib for another look at how the chosen variables plot against each other.\n",
    "\n",
    "df.plot(x = 'trip_duration', y='birth_year',style='o')\n",
    "plt.title('Trip duration vs Age')  \n",
    "plt.xlabel('trip_duration')  \n",
    "plt.ylabel('birth_year')  \n",
    "plt.show()"
   ]
  },
  {
   "cell_type": "markdown",
   "id": "3a79ca6e",
   "metadata": {},
   "source": [
    "### There are too many data points, but we can make out some sort of pattern. It looks like a slight upward trend, showing that the oldest people never took trips that lasted longer than 750 seconds."
   ]
  },
  {
   "cell_type": "markdown",
   "id": "01e9f692",
   "metadata": {},
   "source": [
    "## Hypothesis: The younger people are, the longer their trips will be."
   ]
  },
  {
   "cell_type": "code",
   "execution_count": 27,
   "id": "89df3d0e",
   "metadata": {},
   "outputs": [],
   "source": [
    "# Reshape the variables into NumPy arrays and put them into separate objects.\n",
    "\n",
    "X = df['trip_duration'].values.reshape(-1,1)\n",
    "y = df['birth_year'].values.reshape(-1,1)"
   ]
  },
  {
   "cell_type": "code",
   "execution_count": 32,
   "id": "3a8340ff",
   "metadata": {},
   "outputs": [
    {
     "data": {
      "text/plain": [
       "array([[ 993],\n",
       "       [ 581],\n",
       "       [ 361],\n",
       "       ...,\n",
       "       [1050],\n",
       "       [2697],\n",
       "       [ 370]])"
      ]
     },
     "execution_count": 32,
     "metadata": {},
     "output_type": "execute_result"
    }
   ],
   "source": [
    "X"
   ]
  },
  {
   "cell_type": "code",
   "execution_count": 29,
   "id": "4a7b72d2",
   "metadata": {},
   "outputs": [
    {
     "data": {
      "text/plain": [
       "array([[1968],\n",
       "       [1983],\n",
       "       [1989],\n",
       "       ...,\n",
       "       [1961],\n",
       "       [1976],\n",
       "       [1980]])"
      ]
     },
     "execution_count": 29,
     "metadata": {},
     "output_type": "execute_result"
    }
   ],
   "source": [
    "y"
   ]
  },
  {
   "cell_type": "code",
   "execution_count": 33,
   "id": "33a8e6ab",
   "metadata": {},
   "outputs": [],
   "source": [
    "# Split data into a training set and a test set.\n",
    "\n",
    "X_train, X_test, y_train, y_test = train_test_split(X, y, test_size=0.3, random_state=0)"
   ]
  },
  {
   "cell_type": "markdown",
   "id": "9557c889",
   "metadata": {},
   "source": [
    "## Regression analysis"
   ]
  },
  {
   "cell_type": "code",
   "execution_count": 34,
   "id": "be48c3f6",
   "metadata": {},
   "outputs": [],
   "source": [
    "# Create a regression object.\n",
    "\n",
    "regression = LinearRegression()  # This is the regression object, which will be fit onto the training set."
   ]
  },
  {
   "cell_type": "code",
   "execution_count": 35,
   "id": "3013a36d",
   "metadata": {},
   "outputs": [
    {
     "data": {
      "text/html": [
       "<style>#sk-container-id-1 {color: black;}#sk-container-id-1 pre{padding: 0;}#sk-container-id-1 div.sk-toggleable {background-color: white;}#sk-container-id-1 label.sk-toggleable__label {cursor: pointer;display: block;width: 100%;margin-bottom: 0;padding: 0.3em;box-sizing: border-box;text-align: center;}#sk-container-id-1 label.sk-toggleable__label-arrow:before {content: \"▸\";float: left;margin-right: 0.25em;color: #696969;}#sk-container-id-1 label.sk-toggleable__label-arrow:hover:before {color: black;}#sk-container-id-1 div.sk-estimator:hover label.sk-toggleable__label-arrow:before {color: black;}#sk-container-id-1 div.sk-toggleable__content {max-height: 0;max-width: 0;overflow: hidden;text-align: left;background-color: #f0f8ff;}#sk-container-id-1 div.sk-toggleable__content pre {margin: 0.2em;color: black;border-radius: 0.25em;background-color: #f0f8ff;}#sk-container-id-1 input.sk-toggleable__control:checked~div.sk-toggleable__content {max-height: 200px;max-width: 100%;overflow: auto;}#sk-container-id-1 input.sk-toggleable__control:checked~label.sk-toggleable__label-arrow:before {content: \"▾\";}#sk-container-id-1 div.sk-estimator input.sk-toggleable__control:checked~label.sk-toggleable__label {background-color: #d4ebff;}#sk-container-id-1 div.sk-label input.sk-toggleable__control:checked~label.sk-toggleable__label {background-color: #d4ebff;}#sk-container-id-1 input.sk-hidden--visually {border: 0;clip: rect(1px 1px 1px 1px);clip: rect(1px, 1px, 1px, 1px);height: 1px;margin: -1px;overflow: hidden;padding: 0;position: absolute;width: 1px;}#sk-container-id-1 div.sk-estimator {font-family: monospace;background-color: #f0f8ff;border: 1px dotted black;border-radius: 0.25em;box-sizing: border-box;margin-bottom: 0.5em;}#sk-container-id-1 div.sk-estimator:hover {background-color: #d4ebff;}#sk-container-id-1 div.sk-parallel-item::after {content: \"\";width: 100%;border-bottom: 1px solid gray;flex-grow: 1;}#sk-container-id-1 div.sk-label:hover label.sk-toggleable__label {background-color: #d4ebff;}#sk-container-id-1 div.sk-serial::before {content: \"\";position: absolute;border-left: 1px solid gray;box-sizing: border-box;top: 0;bottom: 0;left: 50%;z-index: 0;}#sk-container-id-1 div.sk-serial {display: flex;flex-direction: column;align-items: center;background-color: white;padding-right: 0.2em;padding-left: 0.2em;position: relative;}#sk-container-id-1 div.sk-item {position: relative;z-index: 1;}#sk-container-id-1 div.sk-parallel {display: flex;align-items: stretch;justify-content: center;background-color: white;position: relative;}#sk-container-id-1 div.sk-item::before, #sk-container-id-1 div.sk-parallel-item::before {content: \"\";position: absolute;border-left: 1px solid gray;box-sizing: border-box;top: 0;bottom: 0;left: 50%;z-index: -1;}#sk-container-id-1 div.sk-parallel-item {display: flex;flex-direction: column;z-index: 1;position: relative;background-color: white;}#sk-container-id-1 div.sk-parallel-item:first-child::after {align-self: flex-end;width: 50%;}#sk-container-id-1 div.sk-parallel-item:last-child::after {align-self: flex-start;width: 50%;}#sk-container-id-1 div.sk-parallel-item:only-child::after {width: 0;}#sk-container-id-1 div.sk-dashed-wrapped {border: 1px dashed gray;margin: 0 0.4em 0.5em 0.4em;box-sizing: border-box;padding-bottom: 0.4em;background-color: white;}#sk-container-id-1 div.sk-label label {font-family: monospace;font-weight: bold;display: inline-block;line-height: 1.2em;}#sk-container-id-1 div.sk-label-container {text-align: center;}#sk-container-id-1 div.sk-container {/* jupyter's `normalize.less` sets `[hidden] { display: none; }` but bootstrap.min.css set `[hidden] { display: none !important; }` so we also need the `!important` here to be able to override the default hidden behavior on the sphinx rendered scikit-learn.org. See: https://github.com/scikit-learn/scikit-learn/issues/21755 */display: inline-block !important;position: relative;}#sk-container-id-1 div.sk-text-repr-fallback {display: none;}</style><div id=\"sk-container-id-1\" class=\"sk-top-container\"><div class=\"sk-text-repr-fallback\"><pre>LinearRegression()</pre><b>In a Jupyter environment, please rerun this cell to show the HTML representation or trust the notebook. <br />On GitHub, the HTML representation is unable to render, please try loading this page with nbviewer.org.</b></div><div class=\"sk-container\" hidden><div class=\"sk-item\"><div class=\"sk-estimator sk-toggleable\"><input class=\"sk-toggleable__control sk-hidden--visually\" id=\"sk-estimator-id-1\" type=\"checkbox\" checked><label for=\"sk-estimator-id-1\" class=\"sk-toggleable__label sk-toggleable__label-arrow\">LinearRegression</label><div class=\"sk-toggleable__content\"><pre>LinearRegression()</pre></div></div></div></div></div>"
      ],
      "text/plain": [
       "LinearRegression()"
      ]
     },
     "execution_count": 35,
     "metadata": {},
     "output_type": "execute_result"
    }
   ],
   "source": [
    "# Fit the regression object onto the training set.\n",
    "\n",
    "regression.fit(X_train, y_train)"
   ]
  },
  {
   "cell_type": "code",
   "execution_count": 36,
   "id": "60fc8dd0",
   "metadata": {},
   "outputs": [],
   "source": [
    "# Predict the values of y using X.\n",
    "\n",
    "y_predicted = regression.predict(X_test)"
   ]
  },
  {
   "cell_type": "code",
   "execution_count": 39,
   "id": "ef78a67a",
   "metadata": {},
   "outputs": [
    {
     "data": {
      "image/png": "[encoded data removed]",
      "text/plain": [
       "<Figure size 640x480 with 1 Axes>"
      ]
     },
     "metadata": {},
     "output_type": "display_data"
    }
   ],
   "source": [
    "# Create a plot that shows the regression line from the model on the test set.\n",
    "\n",
    "plot_test = plt\n",
    "plot_test.scatter(X_test, y_test, color='gray', s = 15)\n",
    "plot_test.plot(X_test, y_predicted, color='red', linewidth =3)\n",
    "plot_test.title('Trip duration vs Age (Test set)')\n",
    "plot_test.xlabel('trip_duration')\n",
    "plot_test.ylabel('birth_year')\n",
    "plot_test.show()"
   ]
  },
  {
   "cell_type": "markdown",
   "id": "799152cb",
   "metadata": {},
   "source": [
    "### Contrary to my hypothesis, the regression line appears to be sloping very slightly downwards. I assume it's because of the mass amount of data points in the very beginning that brough the ave up."
   ]
  },
  {
   "cell_type": "code",
   "execution_count": 40,
   "id": "a082424e",
   "metadata": {},
   "outputs": [],
   "source": [
    "# Create objects that contain the model summary statistics.\n",
    "\n",
    "rmse = mean_squared_error(y_test, y_predicted) # This is the mean squared error\n",
    "r2 = r2_score(y_test, y_predicted) # This is the R2 score. "
   ]
  },
  {
   "cell_type": "code",
   "execution_count": 41,
   "id": "75c2991f",
   "metadata": {},
   "outputs": [
    {
     "name": "stdout",
     "output_type": "stream",
     "text": [
      "Slope: [[-0.0005949]]\n",
      "Mean squared error:  101.85961366698008\n",
      "R2 score:  0.0014964831874325624\n"
     ]
    }
   ],
   "source": [
    "# Print the model summary statistics. This is where you evaluate the performance of the model.\n",
    "\n",
    "print('Slope:' ,regression.coef_)\n",
    "print('Mean squared error: ', rmse)\n",
    "print('R2 score: ', r2)"
   ]
  },
  {
   "cell_type": "code",
   "execution_count": 42,
   "id": "be07398b",
   "metadata": {},
   "outputs": [
    {
     "data": {
      "text/plain": [
       "array([[1975.90642162],\n",
       "       [1975.99625161],\n",
       "       [1975.78149249],\n",
       "       ...,\n",
       "       [1975.68214409],\n",
       "       [1975.87251228],\n",
       "       [1976.05276716]])"
      ]
     },
     "execution_count": 42,
     "metadata": {},
     "output_type": "execute_result"
    }
   ],
   "source": [
    "y_predicted"
   ]
  },
  {
   "cell_type": "code",
   "execution_count": 43,
   "id": "5f27f8de",
   "metadata": {},
   "outputs": [
    {
     "data": {
      "text/html": [
       "<div>\n",
       "<style scoped>\n",
       "    .dataframe tbody tr th:only-of-type {\n",
       "        vertical-align: middle;\n",
       "    }\n",
       "\n",
       "    .dataframe tbody tr th {\n",
       "        vertical-align: top;\n",
       "    }\n",
       "\n",
       "    .dataframe thead th {\n",
       "        text-align: right;\n",
       "    }\n",
       "</style>\n",
       "<table border=\"1\" class=\"dataframe\">\n",
       "  <thead>\n",
       "    <tr style=\"text-align: right;\">\n",
       "      <th></th>\n",
       "      <th>Actual</th>\n",
       "      <th>Predicted</th>\n",
       "    </tr>\n",
       "  </thead>\n",
       "  <tbody>\n",
       "    <tr>\n",
       "      <th>0</th>\n",
       "      <td>1978</td>\n",
       "      <td>1975.906422</td>\n",
       "    </tr>\n",
       "    <tr>\n",
       "      <th>1</th>\n",
       "      <td>1985</td>\n",
       "      <td>1975.996252</td>\n",
       "    </tr>\n",
       "    <tr>\n",
       "      <th>2</th>\n",
       "      <td>1961</td>\n",
       "      <td>1975.781492</td>\n",
       "    </tr>\n",
       "    <tr>\n",
       "      <th>3</th>\n",
       "      <td>1968</td>\n",
       "      <td>1975.787441</td>\n",
       "    </tr>\n",
       "    <tr>\n",
       "      <th>4</th>\n",
       "      <td>1980</td>\n",
       "      <td>1975.663702</td>\n",
       "    </tr>\n",
       "    <tr>\n",
       "      <th>5</th>\n",
       "      <td>1952</td>\n",
       "      <td>1975.907017</td>\n",
       "    </tr>\n",
       "    <tr>\n",
       "      <th>6</th>\n",
       "      <td>1967</td>\n",
       "      <td>1975.863589</td>\n",
       "    </tr>\n",
       "    <tr>\n",
       "      <th>7</th>\n",
       "      <td>1976</td>\n",
       "      <td>1975.242513</td>\n",
       "    </tr>\n",
       "    <tr>\n",
       "      <th>8</th>\n",
       "      <td>1985</td>\n",
       "      <td>1975.538773</td>\n",
       "    </tr>\n",
       "    <tr>\n",
       "      <th>9</th>\n",
       "      <td>1982</td>\n",
       "      <td>1975.962937</td>\n",
       "    </tr>\n",
       "    <tr>\n",
       "      <th>10</th>\n",
       "      <td>1973</td>\n",
       "      <td>1975.663702</td>\n",
       "    </tr>\n",
       "    <tr>\n",
       "      <th>11</th>\n",
       "      <td>1990</td>\n",
       "      <td>1975.936762</td>\n",
       "    </tr>\n",
       "    <tr>\n",
       "      <th>12</th>\n",
       "      <td>1972</td>\n",
       "      <td>1975.792796</td>\n",
       "    </tr>\n",
       "    <tr>\n",
       "      <th>13</th>\n",
       "      <td>1985</td>\n",
       "      <td>1975.581606</td>\n",
       "    </tr>\n",
       "    <tr>\n",
       "      <th>14</th>\n",
       "      <td>1956</td>\n",
       "      <td>1975.973050</td>\n",
       "    </tr>\n",
       "    <tr>\n",
       "      <th>15</th>\n",
       "      <td>1985</td>\n",
       "      <td>1976.111067</td>\n",
       "    </tr>\n",
       "    <tr>\n",
       "      <th>16</th>\n",
       "      <td>1989</td>\n",
       "      <td>1976.039084</td>\n",
       "    </tr>\n",
       "    <tr>\n",
       "      <th>17</th>\n",
       "      <td>1987</td>\n",
       "      <td>1975.914155</td>\n",
       "    </tr>\n",
       "    <tr>\n",
       "      <th>18</th>\n",
       "      <td>1976</td>\n",
       "      <td>1975.929028</td>\n",
       "    </tr>\n",
       "    <tr>\n",
       "      <th>19</th>\n",
       "      <td>1967</td>\n",
       "      <td>1976.105118</td>\n",
       "    </tr>\n",
       "    <tr>\n",
       "      <th>20</th>\n",
       "      <td>1976</td>\n",
       "      <td>1974.848093</td>\n",
       "    </tr>\n",
       "    <tr>\n",
       "      <th>21</th>\n",
       "      <td>1971</td>\n",
       "      <td>1975.344835</td>\n",
       "    </tr>\n",
       "    <tr>\n",
       "      <th>22</th>\n",
       "      <td>1976</td>\n",
       "      <td>1975.275827</td>\n",
       "    </tr>\n",
       "    <tr>\n",
       "      <th>23</th>\n",
       "      <td>1960</td>\n",
       "      <td>1975.750558</td>\n",
       "    </tr>\n",
       "    <tr>\n",
       "      <th>24</th>\n",
       "      <td>1969</td>\n",
       "      <td>1976.084892</td>\n",
       "    </tr>\n",
       "    <tr>\n",
       "      <th>25</th>\n",
       "      <td>1971</td>\n",
       "      <td>1976.125345</td>\n",
       "    </tr>\n",
       "    <tr>\n",
       "      <th>26</th>\n",
       "      <td>1974</td>\n",
       "      <td>1975.685119</td>\n",
       "    </tr>\n",
       "    <tr>\n",
       "      <th>27</th>\n",
       "      <td>1970</td>\n",
       "      <td>1975.523901</td>\n",
       "    </tr>\n",
       "    <tr>\n",
       "      <th>28</th>\n",
       "      <td>1971</td>\n",
       "      <td>1975.584580</td>\n",
       "    </tr>\n",
       "    <tr>\n",
       "      <th>29</th>\n",
       "      <td>1982</td>\n",
       "      <td>1975.701776</td>\n",
       "    </tr>\n",
       "  </tbody>\n",
       "</table>\n",
       "</div>"
      ],
      "text/plain": [
       "    Actual    Predicted\n",
       "0     1978  1975.906422\n",
       "1     1985  1975.996252\n",
       "2     1961  1975.781492\n",
       "3     1968  1975.787441\n",
       "4     1980  1975.663702\n",
       "5     1952  1975.907017\n",
       "6     1967  1975.863589\n",
       "7     1976  1975.242513\n",
       "8     1985  1975.538773\n",
       "9     1982  1975.962937\n",
       "10    1973  1975.663702\n",
       "11    1990  1975.936762\n",
       "12    1972  1975.792796\n",
       "13    1985  1975.581606\n",
       "14    1956  1975.973050\n",
       "15    1985  1976.111067\n",
       "16    1989  1976.039084\n",
       "17    1987  1975.914155\n",
       "18    1976  1975.929028\n",
       "19    1967  1976.105118\n",
       "20    1976  1974.848093\n",
       "21    1971  1975.344835\n",
       "22    1976  1975.275827\n",
       "23    1960  1975.750558\n",
       "24    1969  1976.084892\n",
       "25    1971  1976.125345\n",
       "26    1974  1975.685119\n",
       "27    1970  1975.523901\n",
       "28    1971  1975.584580\n",
       "29    1982  1975.701776"
      ]
     },
     "execution_count": 43,
     "metadata": {},
     "output_type": "execute_result"
    }
   ],
   "source": [
    "# Create a dataframe comparing the actual and predicted values of y.\n",
    "\n",
    "data = pd.DataFrame({'Actual': y_test.flatten(), 'Predicted': y_predicted.flatten()})\n",
    "data.head(30)"
   ]
  },
  {
   "cell_type": "markdown",
   "id": "f10d32f5",
   "metadata": {},
   "source": [
    "### There is a lot of difference between the actual and the predicted values. This means that my model is not doing a great job explaining the the relationship between the variables. But I think that's because the dataframe was not the best to begin with. It's something we spoke about already.\n",
    "\n",
    "### Possible bias could be that the rides were not recorded acurately. Rides were also recorded in seconds, increasing the chance for error."
   ]
  },
  {
   "cell_type": "markdown",
   "id": "7a657667",
   "metadata": {},
   "source": [
    "### Compare how the regression fits the training set"
   ]
  },
  {
   "cell_type": "code",
   "execution_count": 44,
   "id": "52d03a72",
   "metadata": {},
   "outputs": [],
   "source": [
    "# Predict.\n",
    "\n",
    "y_predicted_train = regression.predict(X_train) # This is predicting X_train"
   ]
  },
  {
   "cell_type": "code",
   "execution_count": 45,
   "id": "8b766abd",
   "metadata": {},
   "outputs": [],
   "source": [
    "rmse = mean_squared_error(y_train, y_predicted_train)\n",
    "r2 = r2_score(y_train, y_predicted_train)"
   ]
  },
  {
   "cell_type": "code",
   "execution_count": 46,
   "id": "2580de8a",
   "metadata": {},
   "outputs": [
    {
     "name": "stdout",
     "output_type": "stream",
     "text": [
      "Slope: [[-0.0005949]]\n",
      "Mean squared error:  103.6590391387525\n",
      "R2 score:  0.0011224654361491337\n"
     ]
    }
   ],
   "source": [
    "print('Slope:' ,regression.coef_)\n",
    "print('Mean squared error: ', rmse)\n",
    "print('R2 score: ', r2)"
   ]
  },
  {
   "cell_type": "code",
   "execution_count": 47,
   "id": "e3892033",
   "metadata": {},
   "outputs": [
    {
     "data": {
      "image/png": "[encoded data removed]",
      "text/plain": [
       "<Figure size 640x480 with 1 Axes>"
      ]
     },
     "metadata": {},
     "output_type": "display_data"
    }
   ],
   "source": [
    "# Visualizing the training set results.\n",
    "\n",
    "plot_test = plt\n",
    "plot_test.scatter(X_train, y_train, color='green', s = 15)\n",
    "plot_test.plot(X_train, y_predicted_train, color='red', linewidth =3)\n",
    "plot_test.title('Trip duration vs Age (Train set)')\n",
    "plot_test.xlabel('trip_duration')\n",
    "plot_test.ylabel('birth_year')\n",
    "plot_test.show()"
   ]
  },
  {
   "cell_type": "markdown",
   "id": "f1de3223",
   "metadata": {},
   "source": [
    "### These results look similar to the test results."
   ]
  },
  {
   "cell_type": "code",
   "execution_count": null,
   "id": "9573b34e",
   "metadata": {},
   "outputs": [],
   "source": []
  }
 ],
 "metadata": {
  "kernelspec": {
   "display_name": "Python 3 (ipykernel)",
   "language": "python",
   "name": "python3"
  },
  "language_info": {
   "codemirror_mode": {
    "name": "ipython",
    "version": 3
   },
   "file_extension": ".py",
   "mimetype": "text/x-python",
   "name": "python",
   "nbconvert_exporter": "python",
   "pygments_lexer": "ipython3",
   "version": "3.11.4"
  }
 },
 "nbformat": 4,
 "nbformat_minor": 5
}
